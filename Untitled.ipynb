{
 "cells": [
  {
   "cell_type": "code",
   "execution_count": null,
   "id": "671ab67b-559c-4e1d-99a9-4aeca62b66e8",
   "metadata": {},
   "outputs": [],
   "source": [
    "\n",
    "pip install torch torchvision"
   ]
  },
  {
   "cell_type": "code",
   "execution_count": null,
   "id": "102537d6-cab5-4c24-b388-42cce829b953",
   "metadata": {},
   "outputs": [],
   "source": [
    "import torch\n",
    "import torch.nn as nn\n",
    "import torch.optim as optim\n",
    "from torchvision import datasets, transforms\n",
    "from torch.utils.data import DataLoader, random_split\n",
    "import matplotlib.pyplot as plt\n"
   ]
  },
  {
   "cell_type": "code",
   "execution_count": null,
   "id": "0ac5c4dc-a9a9-4ad7-b739-a4c2ece5f6f3",
   "metadata": {},
   "outputs": [],
   "source": [
    "def load_data(data_dir='./ddd'):\n",
    "    transformations = transforms.Compose([\n",
    "        transforms.Resize((128, 128)),  # Resize all images to 128x128\n",
    "        transforms.ToTensor(),          # Convert images to tensor\n",
    "        transforms.Normalize(mean=[0.485, 0.456, 0.406], std=[0.229, 0.224, 0.225]),\n",
    "        transforms.RandomHorizontalFlip(),  # Random horizontal flip\n",
    "        transforms.RandomRotation(10)  # Random rotation by 10 degrees\n",
    "    ])\n",
    "    dataset = datasets.ImageFolder(data_dir, transform=transformations)\n",
    "    train_size = int(0.8 * len(dataset))\n",
    "    test_size = len(dataset) - train_size\n",
    "    train_dataset, test_dataset = random_split(dataset, [train_size, test_size])\n",
    "    train_loader = DataLoader(train_dataset, batch_size=32, shuffle=True)\n",
    "    test_loader = DataLoader(test_dataset, batch_size=32, shuffle=False)\n",
    "    return train_loader, test_loader"
   ]
  },
  {
   "cell_type": "code",
   "execution_count": null,
   "id": "a15913f4-c0c6-4068-82e0-92b2a1b7355a",
   "metadata": {},
   "outputs": [],
   "source": [
    "# Define the CNN model\n",
    "class DrowsinessDetectorCNN(nn.Module):\n",
    "    def __init__(self):\n",
    "        super(DrowsinessDetectorCNN, self).__init__()\n",
    "        self.conv1 = nn.Conv2d(3, 32, kernel_size=5, padding=2)\n",
    "        self.pool = nn.MaxPool2d(2, 2)\n",
    "        self.conv2 = nn.Conv2d(32, 64, kernel_size=5, padding=2)\n",
    "        self.fc1 = nn.Linear(64 * 32 * 32, 256)  # Adjust the input size according to your image size after pooling\n",
    "        self.fc2 = nn.Linear(256, 2)\n",
    "\n",
    "    def forward(self, x):\n",
    "        x = self.pool(torch.relu(self.conv1(x)))\n",
    "        x = self.pool(torch.relu(self.conv2(x)))\n",
    "        x = torch.flatten(x, 1)\n",
    "        x = torch.relu(self.fc1(x))\n",
    "        x = self.fc2(x)\n",
    "        return x"
   ]
  },
  {
   "cell_type": "code",
   "execution_count": null,
   "id": "339bc1bd-a507-4639-8b33-e88cf050d321",
   "metadata": {},
   "outputs": [],
   "source": [
    "# Train the model\n",
    "def train_model(model, train_loader, criterion, optimizer, num_epochs=10):\n",
    "    model.train()\n",
    "    for epoch in range(num_epochs):\n",
    "        running_loss = 0.0\n",
    "        for images, labels in train_loader:\n",
    "            optimizer.zero_grad()\n",
    "            outputs = model(images)\n",
    "            loss = criterion(outputs, labels)\n",
    "            loss.backward()\n",
    "            optimizer.step()\n",
    "            running_loss += loss.item()\n",
    "        print(f'Epoch {epoch+1}, Loss: {running_loss/len(train_loader)}')"
   ]
  },
  {
   "cell_type": "code",
   "execution_count": null,
   "id": "5f8dc49a-9dde-42fe-9abf-2e1edc50d9c4",
   "metadata": {},
   "outputs": [],
   "source": [
    "# Evaluate the model\n",
    "def evaluate_model(model, test_loader):\n",
    "    model.eval()\n",
    "    correct = 0\n",
    "    total = 0\n",
    "    with torch.no_grad():\n",
    "        for images, labels in test_loader:\n",
    "            outputs = model(images)\n",
    "            _, predicted = torch.max(outputs.data, 1)\n",
    "            total += labels.size(0)\n",
    "            correct += (predicted == labels).sum().item()\n",
    "    print(f'Accuracy on test set: {100 * correct / total}%')\n",
    "    "
   ]
  },
  {
   "cell_type": "code",
   "execution_count": null,
   "id": "f72eef51-9e0d-43f8-8632-ff2ccd82dddc",
   "metadata": {},
   "outputs": [],
   "source": [
    "# Load the data\n",
    "train_loader, test_loader = load_data()\n"
   ]
  },
  {
   "cell_type": "code",
   "execution_count": null,
   "id": "f1e4b848-641c-4652-ba68-f4e8cff4dc7f",
   "metadata": {},
   "outputs": [],
   "source": [
    "# Initialize the model, loss, and optimizer\n",
    "model = DrowsinessDetectorCNN()\n",
    "criterion = nn.CrossEntropyLoss()\n",
    "optimizer = optim.Adam(model.parameters(), lr=0.001)"
   ]
  },
  {
   "cell_type": "code",
   "execution_count": null,
   "id": "f04442c1-ca94-47a5-9a16-600afe16a92d",
   "metadata": {},
   "outputs": [],
   "source": [
    "# Train and evaluate the model\n",
    "train_model(model, train_loader, criterion, optimizer)\n",
    "evaluate_model(model, test_loader)"
   ]
  },
  {
   "cell_type": "code",
   "execution_count": null,
   "id": "55f97d39-9428-44f9-8771-faa6a82aa19d",
   "metadata": {},
   "outputs": [],
   "source": []
  },
  {
   "cell_type": "code",
   "execution_count": null,
   "id": "6dca7f8c-4d5b-4da7-aec2-127a0391e4cb",
   "metadata": {},
   "outputs": [],
   "source": []
  }
 ],
 "metadata": {
  "kernelspec": {
   "display_name": "Python 3 (ipykernel)",
   "language": "python",
   "name": "python3"
  },
  "language_info": {
   "codemirror_mode": {
    "name": "ipython",
    "version": 3
   },
   "file_extension": ".py",
   "mimetype": "text/x-python",
   "name": "python",
   "nbconvert_exporter": "python",
   "pygments_lexer": "ipython3",
   "version": "3.11.7"
  }
 },
 "nbformat": 4,
 "nbformat_minor": 5
}
